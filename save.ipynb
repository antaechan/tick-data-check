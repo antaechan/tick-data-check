{
 "cells": [
  {
   "cell_type": "code",
   "execution_count": 1,
   "metadata": {},
   "outputs": [],
   "source": [
    "import polars as pl\n",
    "from pathlib import Path\n",
    "\n",
    "# ── 원본 파일 경로 ─────────────────────────────────────────\n",
    "src = Path(\"~/Downloads/SKSNXTRDIJH_2023_12.dat\").expanduser()\n",
    "\n",
    "# 헤더 리스트 (질문에서 그대로 사용)\n",
    "column_names = [\n",
    "    \"일자\",\"대량매매구분코드\",\"정규시간외구분코드\",\"종목코드\",\"종목인덱스\",\"체결번호\",\"체결가격\",\"체결수량\",\n",
    "    \"체결유형코드\",\"체결일자\",\"체결시각\",\"근월물체결가격\",\"원월물체결가격\",\"매수회원번호\",\"매수호가유형코드\",\n",
    "    \"매수자사주신고서ID\",\"매수자사주매매방법코드\",\"매수매도유형코드\",\"매수위탁자기구분코드\",\"매수위탁사번호\",\n",
    "    \"매수PT구분코드\",\"매수투자자구분코드\",\"매수외국인투자자구분코드\",\"매수호가접수번호\",\"매도회원번호\",\n",
    "    \"매도호가유형코드\",\"매도자사주신고서ID\",\"매도자사주매매방법코드\",\"매도매도유형코드\",\"매도위탁자기구분코드\",\n",
    "    \"매도위탁사번호\",\"매도PT구분코드\",\"매도투자자구분코드\",\"매도외국인투자자구분코드\",\"매도호가접수번호\",\n",
    "    \"시가\",\"고가\",\"저가\",\"직전가격\",\"누적체결수량\",\"누적거래대금\",\"최종매도매수구분코드\",\"LP보유수량\",\n",
    "    \"데이터구분\",\"메세지일련번호\",\"매수프로그램호가신고구분코드\",\"매도프로그램호가신고구분코드\",\"보드ID\",\n",
    "    \"세션ID\",\"실시간상한가\",\"실시간하한가\"\n",
    "]\n",
    "\n",
    "# ── 최종 CSV에 남길 컬럼 ──────────────────────────────────\n",
    "keep_cols = [\"종목코드\",\"종목인덱스\",\"체결가격\",\"체결일자\",\"체결시각\",\"시가\"]\n",
    "\n",
    "# ── LazyFrame 스트리밍 파이프라인 ─────────────────────────\n",
    "scan = (\n",
    "    pl.scan_csv(\n",
    "        src,\n",
    "        separator=\"|\",\n",
    "        new_columns=column_names,\n",
    "        ignore_errors=True,        # 일부 컬럼 누락 라인은 NaN\n",
    "        infer_schema_length=500,   # 앞 500줄만 타입 추론\n",
    "        has_header=False,          # 원본 파일에 헤더 없다고 가정\n",
    "        low_memory=True            # 메모리 절약 모드\n",
    "    )\n",
    "    .select(keep_cols)             # 필요한 열만 선택\n",
    ")\n",
    "\n"
   ]
  },
  {
   "cell_type": "code",
   "execution_count": 2,
   "metadata": {},
   "outputs": [
    {
     "name": "stdout",
     "output_type": "stream",
     "text": [
      "✔️  saved: SKSNXTR_filtered.csv\n"
     ]
    }
   ],
   "source": [
    "# ── 디스크로 바로 스트리밍 저장 ───────────────────────────\n",
    "dst = \"SKSNXTR_filtered.csv\"\n",
    "scan.sink_csv(\n",
    "    dst,\n",
    "    include_header=True,   # 헤더 작성\n",
    "    batch_size=1_000_000   # 100만 row 단위로 flush (필요하면 조정)\n",
    ")\n",
    "\n",
    "print(f\"✔️  saved: {dst}\")"
   ]
  }
 ],
 "metadata": {
  "kernelspec": {
   "display_name": "venv",
   "language": "python",
   "name": "python3"
  },
  "language_info": {
   "codemirror_mode": {
    "name": "ipython",
    "version": 3
   },
   "file_extension": ".py",
   "mimetype": "text/x-python",
   "name": "python",
   "nbconvert_exporter": "python",
   "pygments_lexer": "ipython3",
   "version": "3.12.7"
  }
 },
 "nbformat": 4,
 "nbformat_minor": 2
}
