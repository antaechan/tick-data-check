{
 "cells": [
  {
   "cell_type": "code",
   "execution_count": 3,
   "id": "e508dfdd",
   "metadata": {},
   "outputs": [],
   "source": [
    "import polars as pl\n"
   ]
  },
  {
   "cell_type": "code",
   "execution_count": 12,
   "id": "4aea69f4",
   "metadata": {},
   "outputs": [
    {
     "data": {
      "text/html": [
       "<div><style>\n",
       ".dataframe > thead > tr,\n",
       ".dataframe > tbody > tr {\n",
       "  text-align: right;\n",
       "  white-space: pre-wrap;\n",
       "}\n",
       "</style>\n",
       "<small>shape: (406, 7)</small><table border=\"1\" class=\"dataframe\"><thead><tr><th>종목코드</th><th>ts</th><th>open</th><th>high</th><th>low</th><th>close</th><th>volume</th></tr><tr><td>str</td><td>datetime[μs, Asia/Seoul]</td><td>i64</td><td>i64</td><td>i64</td><td>i64</td><td>i64</td></tr></thead><tbody><tr><td>&quot;KR7069500007&quot;</td><td>2022-12-12 09:00:00 KST</td><td>31010</td><td>31020</td><td>30970</td><td>30990</td><td>69641</td></tr><tr><td>&quot;KR7069500007&quot;</td><td>2022-12-12 09:01:00 KST</td><td>30990</td><td>30990</td><td>30945</td><td>30970</td><td>69138</td></tr><tr><td>&quot;KR7069500007&quot;</td><td>2022-12-12 09:02:00 KST</td><td>30980</td><td>31030</td><td>30980</td><td>31010</td><td>9092</td></tr><tr><td>&quot;KR7069500007&quot;</td><td>2022-12-12 09:03:00 KST</td><td>31010</td><td>31040</td><td>30995</td><td>31015</td><td>20161</td></tr><tr><td>&quot;KR7069500007&quot;</td><td>2022-12-12 09:04:00 KST</td><td>31020</td><td>31020</td><td>30985</td><td>30985</td><td>19540</td></tr><tr><td>&hellip;</td><td>&hellip;</td><td>&hellip;</td><td>&hellip;</td><td>&hellip;</td><td>&hellip;</td><td>&hellip;</td></tr><tr><td>&quot;KR7069500007&quot;</td><td>2022-12-12 17:20:00 KST</td><td>31040</td><td>31040</td><td>31040</td><td>31040</td><td>1601</td></tr><tr><td>&quot;KR7069500007&quot;</td><td>2022-12-12 17:30:00 KST</td><td>31040</td><td>31040</td><td>31040</td><td>31040</td><td>84</td></tr><tr><td>&quot;KR7069500007&quot;</td><td>2022-12-12 17:40:00 KST</td><td>31040</td><td>31040</td><td>31040</td><td>31040</td><td>223</td></tr><tr><td>&quot;KR7069500007&quot;</td><td>2022-12-12 17:50:00 KST</td><td>31040</td><td>31040</td><td>31040</td><td>31040</td><td>103</td></tr><tr><td>&quot;KR7069500007&quot;</td><td>2022-12-12 18:00:00 KST</td><td>31035</td><td>31035</td><td>31035</td><td>31035</td><td>356</td></tr></tbody></table></div>"
      ],
      "text/plain": [
       "shape: (406, 7)\n",
       "┌──────────────┬──────────────────────────┬───────┬───────┬───────┬───────┬────────┐\n",
       "│ 종목코드     ┆ ts                       ┆ open  ┆ high  ┆ low   ┆ close ┆ volume │\n",
       "│ ---          ┆ ---                      ┆ ---   ┆ ---   ┆ ---   ┆ ---   ┆ ---    │\n",
       "│ str          ┆ datetime[μs, Asia/Seoul] ┆ i64   ┆ i64   ┆ i64   ┆ i64   ┆ i64    │\n",
       "╞══════════════╪══════════════════════════╪═══════╪═══════╪═══════╪═══════╪════════╡\n",
       "│ KR7069500007 ┆ 2022-12-12 09:00:00 KST  ┆ 31010 ┆ 31020 ┆ 30970 ┆ 30990 ┆ 69641  │\n",
       "│ KR7069500007 ┆ 2022-12-12 09:01:00 KST  ┆ 30990 ┆ 30990 ┆ 30945 ┆ 30970 ┆ 69138  │\n",
       "│ KR7069500007 ┆ 2022-12-12 09:02:00 KST  ┆ 30980 ┆ 31030 ┆ 30980 ┆ 31010 ┆ 9092   │\n",
       "│ KR7069500007 ┆ 2022-12-12 09:03:00 KST  ┆ 31010 ┆ 31040 ┆ 30995 ┆ 31015 ┆ 20161  │\n",
       "│ KR7069500007 ┆ 2022-12-12 09:04:00 KST  ┆ 31020 ┆ 31020 ┆ 30985 ┆ 30985 ┆ 19540  │\n",
       "│ …            ┆ …                        ┆ …     ┆ …     ┆ …     ┆ …     ┆ …      │\n",
       "│ KR7069500007 ┆ 2022-12-12 17:20:00 KST  ┆ 31040 ┆ 31040 ┆ 31040 ┆ 31040 ┆ 1601   │\n",
       "│ KR7069500007 ┆ 2022-12-12 17:30:00 KST  ┆ 31040 ┆ 31040 ┆ 31040 ┆ 31040 ┆ 84     │\n",
       "│ KR7069500007 ┆ 2022-12-12 17:40:00 KST  ┆ 31040 ┆ 31040 ┆ 31040 ┆ 31040 ┆ 223    │\n",
       "│ KR7069500007 ┆ 2022-12-12 17:50:00 KST  ┆ 31040 ┆ 31040 ┆ 31040 ┆ 31040 ┆ 103    │\n",
       "│ KR7069500007 ┆ 2022-12-12 18:00:00 KST  ┆ 31035 ┆ 31035 ┆ 31035 ┆ 31035 ┆ 356    │\n",
       "└──────────────┴──────────────────────────┴───────┴───────┴───────┴───────┴────────┘"
      ]
     },
     "execution_count": 12,
     "metadata": {},
     "output_type": "execute_result"
    }
   ],
   "source": [
    "from pathlib import Path\n",
    "\n",
    "src = Path(\"/Volumes/APFS/KOSPI/ohlcv/20221212_1m.parquet\")\n",
    "\n",
    "df = pl.read_parquet(src)\n",
    "\n",
    "df.filter(df['종목코드'] == 'KR7069500007')"
   ]
  },
  {
   "cell_type": "code",
   "execution_count": 19,
   "id": "e237ca1e",
   "metadata": {},
   "outputs": [
    {
     "data": {
      "text/html": [
       "<div><style>\n",
       ".dataframe > thead > tr,\n",
       ".dataframe > tbody > tr {\n",
       "  text-align: right;\n",
       "  white-space: pre-wrap;\n",
       "}\n",
       "</style>\n",
       "<small>shape: (27, 7)</small><table border=\"1\" class=\"dataframe\"><thead><tr><th>종목코드</th><th>ts</th><th>open</th><th>high</th><th>low</th><th>close</th><th>volume</th></tr><tr><td>str</td><td>datetime[μs, Asia/Seoul]</td><td>i64</td><td>i64</td><td>i64</td><td>i64</td><td>i64</td></tr></thead><tbody><tr><td>&quot;KR7069500007&quot;</td><td>2022-12-12 15:30:00 KST</td><td>31035</td><td>31035</td><td>31035</td><td>31035</td><td>49650</td></tr><tr><td>&quot;KR7069500007&quot;</td><td>2022-12-12 15:40:00 KST</td><td>31035</td><td>31035</td><td>31035</td><td>31035</td><td>3131</td></tr><tr><td>&quot;KR7069500007&quot;</td><td>2022-12-12 15:41:00 KST</td><td>31035</td><td>31035</td><td>31035</td><td>31035</td><td>425</td></tr><tr><td>&quot;KR7069500007&quot;</td><td>2022-12-12 15:45:00 KST</td><td>31035</td><td>31035</td><td>31029</td><td>31029</td><td>300003</td></tr><tr><td>&quot;KR7069500007&quot;</td><td>2022-12-12 15:47:00 KST</td><td>31035</td><td>31035</td><td>31035</td><td>31035</td><td>5</td></tr><tr><td>&hellip;</td><td>&hellip;</td><td>&hellip;</td><td>&hellip;</td><td>&hellip;</td><td>&hellip;</td><td>&hellip;</td></tr><tr><td>&quot;KR7069500007&quot;</td><td>2022-12-12 17:20:00 KST</td><td>31040</td><td>31040</td><td>31040</td><td>31040</td><td>1601</td></tr><tr><td>&quot;KR7069500007&quot;</td><td>2022-12-12 17:30:00 KST</td><td>31040</td><td>31040</td><td>31040</td><td>31040</td><td>84</td></tr><tr><td>&quot;KR7069500007&quot;</td><td>2022-12-12 17:40:00 KST</td><td>31040</td><td>31040</td><td>31040</td><td>31040</td><td>223</td></tr><tr><td>&quot;KR7069500007&quot;</td><td>2022-12-12 17:50:00 KST</td><td>31040</td><td>31040</td><td>31040</td><td>31040</td><td>103</td></tr><tr><td>&quot;KR7069500007&quot;</td><td>2022-12-12 18:00:00 KST</td><td>31035</td><td>31035</td><td>31035</td><td>31035</td><td>356</td></tr></tbody></table></div>"
      ],
      "text/plain": [
       "shape: (27, 7)\n",
       "┌──────────────┬──────────────────────────┬───────┬───────┬───────┬───────┬────────┐\n",
       "│ 종목코드     ┆ ts                       ┆ open  ┆ high  ┆ low   ┆ close ┆ volume │\n",
       "│ ---          ┆ ---                      ┆ ---   ┆ ---   ┆ ---   ┆ ---   ┆ ---    │\n",
       "│ str          ┆ datetime[μs, Asia/Seoul] ┆ i64   ┆ i64   ┆ i64   ┆ i64   ┆ i64    │\n",
       "╞══════════════╪══════════════════════════╪═══════╪═══════╪═══════╪═══════╪════════╡\n",
       "│ KR7069500007 ┆ 2022-12-12 15:30:00 KST  ┆ 31035 ┆ 31035 ┆ 31035 ┆ 31035 ┆ 49650  │\n",
       "│ KR7069500007 ┆ 2022-12-12 15:40:00 KST  ┆ 31035 ┆ 31035 ┆ 31035 ┆ 31035 ┆ 3131   │\n",
       "│ KR7069500007 ┆ 2022-12-12 15:41:00 KST  ┆ 31035 ┆ 31035 ┆ 31035 ┆ 31035 ┆ 425    │\n",
       "│ KR7069500007 ┆ 2022-12-12 15:45:00 KST  ┆ 31035 ┆ 31035 ┆ 31029 ┆ 31029 ┆ 300003 │\n",
       "│ KR7069500007 ┆ 2022-12-12 15:47:00 KST  ┆ 31035 ┆ 31035 ┆ 31035 ┆ 31035 ┆ 5      │\n",
       "│ …            ┆ …                        ┆ …     ┆ …     ┆ …     ┆ …     ┆ …      │\n",
       "│ KR7069500007 ┆ 2022-12-12 17:20:00 KST  ┆ 31040 ┆ 31040 ┆ 31040 ┆ 31040 ┆ 1601   │\n",
       "│ KR7069500007 ┆ 2022-12-12 17:30:00 KST  ┆ 31040 ┆ 31040 ┆ 31040 ┆ 31040 ┆ 84     │\n",
       "│ KR7069500007 ┆ 2022-12-12 17:40:00 KST  ┆ 31040 ┆ 31040 ┆ 31040 ┆ 31040 ┆ 223    │\n",
       "│ KR7069500007 ┆ 2022-12-12 17:50:00 KST  ┆ 31040 ┆ 31040 ┆ 31040 ┆ 31040 ┆ 103    │\n",
       "│ KR7069500007 ┆ 2022-12-12 18:00:00 KST  ┆ 31035 ┆ 31035 ┆ 31035 ┆ 31035 ┆ 356    │\n",
       "└──────────────┴──────────────────────────┴───────┴───────┴───────┴───────┴────────┘"
      ]
     },
     "execution_count": 19,
     "metadata": {},
     "output_type": "execute_result"
    }
   ],
   "source": [
    "df = pl.read_parquet(src)\n",
    "\n",
    "df.filter(\n",
    "    (df['종목코드'] == 'KR7069500007') & \n",
    "    (df['ts'].dt.time() >= pl.time(15, 30)) & \n",
    "    (df['ts'].dt.time() <= pl.time(18, 0))\n",
    ")"
   ]
  },
  {
   "cell_type": "code",
   "execution_count": null,
   "id": "edab6c3e",
   "metadata": {},
   "outputs": [],
   "source": [
    "df = pl.read_parquet(src)\n",
    "\n",
    "df.filter(\n",
    "    (df['종목코드'] == 'KR7069500007') & \n",
    "    (df['ts'].dt.time() >= pl.time(15, 30)) & \n",
    "    (df['ts'].dt.time() <= pl.time(18, 0))\n",
    ")"
   ]
  },
  {
   "cell_type": "code",
   "execution_count": null,
   "id": "9c994923",
   "metadata": {},
   "outputs": [
    {
     "data": {
      "text/html": [
       "<div><style>\n",
       ".dataframe > thead > tr,\n",
       ".dataframe > tbody > tr {\n",
       "  text-align: right;\n",
       "  white-space: pre-wrap;\n",
       "}\n",
       "</style>\n",
       "<small>shape: (24, 7)</small><table border=\"1\" class=\"dataframe\"><thead><tr><th>종목코드</th><th>ts</th><th>open</th><th>high</th><th>low</th><th>close</th><th>volume</th></tr><tr><td>str</td><td>datetime[μs, Asia/Seoul]</td><td>i64</td><td>i64</td><td>i64</td><td>i64</td><td>i64</td></tr></thead><tbody><tr><td>&quot;KR7229200001&quot;</td><td>2022-12-12 15:30:00 KST</td><td>10130</td><td>10130</td><td>10130</td><td>10130</td><td>52033</td></tr><tr><td>&quot;KR7229200001&quot;</td><td>2022-12-12 15:40:00 KST</td><td>10130</td><td>10130</td><td>10130</td><td>10130</td><td>4578</td></tr><tr><td>&quot;KR7229200001&quot;</td><td>2022-12-12 15:42:00 KST</td><td>10130</td><td>10130</td><td>10130</td><td>10130</td><td>7</td></tr><tr><td>&quot;KR7229200001&quot;</td><td>2022-12-12 15:43:00 KST</td><td>10130</td><td>10130</td><td>10130</td><td>10130</td><td>1</td></tr><tr><td>&quot;KR7229200001&quot;</td><td>2022-12-12 15:47:00 KST</td><td>10130</td><td>10130</td><td>10130</td><td>10130</td><td>1614</td></tr><tr><td>&hellip;</td><td>&hellip;</td><td>&hellip;</td><td>&hellip;</td><td>&hellip;</td><td>&hellip;</td><td>&hellip;</td></tr><tr><td>&quot;KR7229200001&quot;</td><td>2022-12-12 17:20:00 KST</td><td>10130</td><td>10130</td><td>10130</td><td>10130</td><td>200</td></tr><tr><td>&quot;KR7229200001&quot;</td><td>2022-12-12 17:30:00 KST</td><td>10125</td><td>10125</td><td>10125</td><td>10125</td><td>300</td></tr><tr><td>&quot;KR7229200001&quot;</td><td>2022-12-12 17:40:00 KST</td><td>10130</td><td>10130</td><td>10130</td><td>10130</td><td>6004</td></tr><tr><td>&quot;KR7229200001&quot;</td><td>2022-12-12 17:50:00 KST</td><td>10130</td><td>10130</td><td>10130</td><td>10130</td><td>641</td></tr><tr><td>&quot;KR7229200001&quot;</td><td>2022-12-12 18:00:00 KST</td><td>10130</td><td>10130</td><td>10130</td><td>10130</td><td>2904</td></tr></tbody></table></div>"
      ],
      "text/plain": [
       "shape: (24, 7)\n",
       "┌──────────────┬──────────────────────────┬───────┬───────┬───────┬───────┬────────┐\n",
       "│ 종목코드     ┆ ts                       ┆ open  ┆ high  ┆ low   ┆ close ┆ volume │\n",
       "│ ---          ┆ ---                      ┆ ---   ┆ ---   ┆ ---   ┆ ---   ┆ ---    │\n",
       "│ str          ┆ datetime[μs, Asia/Seoul] ┆ i64   ┆ i64   ┆ i64   ┆ i64   ┆ i64    │\n",
       "╞══════════════╪══════════════════════════╪═══════╪═══════╪═══════╪═══════╪════════╡\n",
       "│ KR7229200001 ┆ 2022-12-12 15:30:00 KST  ┆ 10130 ┆ 10130 ┆ 10130 ┆ 10130 ┆ 52033  │\n",
       "│ KR7229200001 ┆ 2022-12-12 15:40:00 KST  ┆ 10130 ┆ 10130 ┆ 10130 ┆ 10130 ┆ 4578   │\n",
       "│ KR7229200001 ┆ 2022-12-12 15:42:00 KST  ┆ 10130 ┆ 10130 ┆ 10130 ┆ 10130 ┆ 7      │\n",
       "│ KR7229200001 ┆ 2022-12-12 15:43:00 KST  ┆ 10130 ┆ 10130 ┆ 10130 ┆ 10130 ┆ 1      │\n",
       "│ KR7229200001 ┆ 2022-12-12 15:47:00 KST  ┆ 10130 ┆ 10130 ┆ 10130 ┆ 10130 ┆ 1614   │\n",
       "│ …            ┆ …                        ┆ …     ┆ …     ┆ …     ┆ …     ┆ …      │\n",
       "│ KR7229200001 ┆ 2022-12-12 17:20:00 KST  ┆ 10130 ┆ 10130 ┆ 10130 ┆ 10130 ┆ 200    │\n",
       "│ KR7229200001 ┆ 2022-12-12 17:30:00 KST  ┆ 10125 ┆ 10125 ┆ 10125 ┆ 10125 ┆ 300    │\n",
       "│ KR7229200001 ┆ 2022-12-12 17:40:00 KST  ┆ 10130 ┆ 10130 ┆ 10130 ┆ 10130 ┆ 6004   │\n",
       "│ KR7229200001 ┆ 2022-12-12 17:50:00 KST  ┆ 10130 ┆ 10130 ┆ 10130 ┆ 10130 ┆ 641    │\n",
       "│ KR7229200001 ┆ 2022-12-12 18:00:00 KST  ┆ 10130 ┆ 10130 ┆ 10130 ┆ 10130 ┆ 2904   │\n",
       "└──────────────┴──────────────────────────┴───────┴───────┴───────┴───────┴────────┘"
      ]
     },
     "execution_count": 17,
     "metadata": {},
     "output_type": "execute_result"
    }
   ],
   "source": [
    "df = pl.read_parquet(src)\n",
    "\n",
    "df.filter(\n",
    "    (df['종목코드'] == 'KR7069500007') & \n",
    "    (df['ts'].dt.time() >= pl.time(8, 30)) & \n",
    "    (df['ts'].dt.time() <= pl.time(9, 0))\n",
    ")"
   ]
  },
  {
   "cell_type": "code",
   "execution_count": 18,
   "id": "4ebedae1",
   "metadata": {},
   "outputs": [
    {
     "data": {
      "text/html": [
       "<div><style>\n",
       ".dataframe > thead > tr,\n",
       ".dataframe > tbody > tr {\n",
       "  text-align: right;\n",
       "  white-space: pre-wrap;\n",
       "}\n",
       "</style>\n",
       "<small>shape: (4, 7)</small><table border=\"1\" class=\"dataframe\"><thead><tr><th>종목코드</th><th>ts</th><th>open</th><th>high</th><th>low</th><th>close</th><th>volume</th></tr><tr><td>str</td><td>datetime[μs, Asia/Seoul]</td><td>i64</td><td>i64</td><td>i64</td><td>i64</td><td>i64</td></tr></thead><tbody><tr><td>&quot;KR7229200001&quot;</td><td>2022-12-12 08:32:00 KST</td><td>10260</td><td>10260</td><td>10260</td><td>10260</td><td>2</td></tr><tr><td>&quot;KR7229200001&quot;</td><td>2022-12-12 08:34:00 KST</td><td>10260</td><td>10260</td><td>10260</td><td>10260</td><td>1</td></tr><tr><td>&quot;KR7229200001&quot;</td><td>2022-12-12 08:36:00 KST</td><td>10260</td><td>10260</td><td>10260</td><td>10260</td><td>2</td></tr><tr><td>&quot;KR7229200001&quot;</td><td>2022-12-12 09:00:00 KST</td><td>10140</td><td>10155</td><td>10140</td><td>10150</td><td>61670</td></tr></tbody></table></div>"
      ],
      "text/plain": [
       "shape: (4, 7)\n",
       "┌──────────────┬──────────────────────────┬───────┬───────┬───────┬───────┬────────┐\n",
       "│ 종목코드     ┆ ts                       ┆ open  ┆ high  ┆ low   ┆ close ┆ volume │\n",
       "│ ---          ┆ ---                      ┆ ---   ┆ ---   ┆ ---   ┆ ---   ┆ ---    │\n",
       "│ str          ┆ datetime[μs, Asia/Seoul] ┆ i64   ┆ i64   ┆ i64   ┆ i64   ┆ i64    │\n",
       "╞══════════════╪══════════════════════════╪═══════╪═══════╪═══════╪═══════╪════════╡\n",
       "│ KR7229200001 ┆ 2022-12-12 08:32:00 KST  ┆ 10260 ┆ 10260 ┆ 10260 ┆ 10260 ┆ 2      │\n",
       "│ KR7229200001 ┆ 2022-12-12 08:34:00 KST  ┆ 10260 ┆ 10260 ┆ 10260 ┆ 10260 ┆ 1      │\n",
       "│ KR7229200001 ┆ 2022-12-12 08:36:00 KST  ┆ 10260 ┆ 10260 ┆ 10260 ┆ 10260 ┆ 2      │\n",
       "│ KR7229200001 ┆ 2022-12-12 09:00:00 KST  ┆ 10140 ┆ 10155 ┆ 10140 ┆ 10150 ┆ 61670  │\n",
       "└──────────────┴──────────────────────────┴───────┴───────┴───────┴───────┴────────┘"
      ]
     },
     "execution_count": 18,
     "metadata": {},
     "output_type": "execute_result"
    }
   ],
   "source": [
    "df = pl.read_parquet(src)\n",
    "\n",
    "df.filter(\n",
    "    (df['종목코드'] == 'KR7229200001') & \n",
    "    (df['ts'].dt.time() >= pl.time(8, 30)) & \n",
    "    (df['ts'].dt.time() <= pl.time(9, 0))\n",
    ")"
   ]
  }
 ],
 "metadata": {
  "kernelspec": {
   "display_name": "venv",
   "language": "python",
   "name": "python3"
  },
  "language_info": {
   "codemirror_mode": {
    "name": "ipython",
    "version": 3
   },
   "file_extension": ".py",
   "mimetype": "text/x-python",
   "name": "python",
   "nbconvert_exporter": "python",
   "pygments_lexer": "ipython3",
   "version": "3.9.6"
  }
 },
 "nbformat": 4,
 "nbformat_minor": 5
}
