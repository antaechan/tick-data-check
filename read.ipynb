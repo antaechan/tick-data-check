{
 "cells": [
  {
   "cell_type": "code",
   "execution_count": 5,
   "metadata": {},
   "outputs": [],
   "source": [
    "import polars as pl\n",
    "\n",
    "column_names = [\n",
    "    \"일자\", \"대량매매구분코드\", \"정규시간외구분코드\", \"종목코드\", \"종목인덱스\", \"체결번호\", \"체결가격\", \"체결수량\",\n",
    "    \"체결유형코드\", \"체결일자\", \"체결시각\", \"근월물체결가격\", \"원월물체결가격\", \"매수회원번호\", \"매수호가유형코드\",\n",
    "    \"매수자사주신고서ID\", \"매수자사주매매방법코드\", \"매수매도유형코드\", \"매수위탁자기구분코드\", \"매수위탁사번호\",\n",
    "    \"매수PT구분코드\", \"매수투자자구분코드\", \"매수외국인투자자구분코드\", \"매수호가접수번호\", \"매도회원번호\",\n",
    "    \"매도호가유형코드\", \"매도자사주신고서ID\", \"매도자사주매매방법코드\", \"매도매도유형코드\", \"매도위탁자기구분코드\",\n",
    "    \"매도위탁사번호\", \"매도PT구분코드\", \"매도투자자구분코드\", \"매도외국인투자자구분코드\", \"매도호가접수번호\",\n",
    "    \"시가\", \"고가\", \"저가\", \"직전가격\", \"누적체결수량\", \"누적거래대금\", \"최종매도매수구분코드\", \"LP보유수량\",\n",
    "    \"데이터구분\", \"메세지일련번호\", \"매수프로그램호가신고구분코드\", \"매도프로그램호가신고구분코드\", \"보드ID\",\n",
    "    \"세션ID\", \"실시간상한가\", \"실시간하한가\"\n",
    "]\n",
    "\n",
    "scan = pl.scan_csv(\n",
    "    \"~/Downloads/SKSNXTRDIJH_2023_12.dat\",\n",
    "    separator=\"|\",          # 파이프 구분자\n",
    "    new_columns=column_names,\n",
    "    ignore_errors=True,     # 열 수 모자라는 줄은 NaN 채움\n",
    "    infer_schema_length=500 # 앞 500줄만 타입 추론\n",
    ")\n"
   ]
  },
  {
   "cell_type": "code",
   "execution_count": 6,
   "metadata": {},
   "outputs": [
    {
     "name": "stdout",
     "output_type": "stream",
     "text": [
      "shape: (5, 51)\n",
      "┌──────────┬─────────────┬────────────┬────────────┬───┬────────┬────────┬────────────┬────────────┐\n",
      "│ 일자     ┆ 대량매매구  ┆ 정규시간외 ┆ 종목코드   ┆ … ┆ 보드ID ┆ 세션ID ┆ 실시간상한 ┆ 실시간하한 │\n",
      "│ ---      ┆ 분코드      ┆ 구분코드   ┆ ---        ┆   ┆ ---    ┆ ---    ┆ 가         ┆ 가         │\n",
      "│ i64      ┆ ---         ┆ ---        ┆ str        ┆   ┆ str    ┆ i64    ┆ ---        ┆ ---        │\n",
      "│          ┆ str         ┆ str        ┆            ┆   ┆        ┆        ┆ i64        ┆ i64        │\n",
      "╞══════════╪═════════════╪════════════╪════════════╪═══╪════════╪════════╪════════════╪════════════╡\n",
      "│ 20231201 ┆ null        ┆ null       ┆ KR572501BA ┆ … ┆ G1     ┆ 40     ┆ 0          ┆ 0          │\n",
      "│          ┆             ┆            ┆ 28         ┆   ┆        ┆        ┆            ┆            │\n",
      "│ 20231201 ┆ null        ┆ null       ┆ KR572501BA ┆ … ┆ G1     ┆ 40     ┆ 0          ┆ 0          │\n",
      "│          ┆             ┆            ┆ 28         ┆   ┆        ┆        ┆            ┆            │\n",
      "│ 20231201 ┆ null        ┆ null       ┆ KR572501BA ┆ … ┆ G1     ┆ 40     ┆ 0          ┆ 0          │\n",
      "│          ┆             ┆            ┆ 28         ┆   ┆        ┆        ┆            ┆            │\n",
      "│ 20231201 ┆ null        ┆ null       ┆ KR57440177 ┆ … ┆ G1     ┆ 40     ┆ 0          ┆ 0          │\n",
      "│          ┆             ┆            ┆ 77         ┆   ┆        ┆        ┆            ┆            │\n",
      "│ 20231201 ┆ null        ┆ null       ┆ KR57440177 ┆ … ┆ G1     ┆ 40     ┆ 0          ┆ 0          │\n",
      "│          ┆             ┆            ┆ 77         ┆   ┆        ┆        ┆            ┆            │\n",
      "└──────────┴─────────────┴────────────┴────────────┴───┴────────┴────────┴────────────┴────────────┘\n"
     ]
    }
   ],
   "source": [
    "print(scan.head(5).collect())"
   ]
  },
  {
   "cell_type": "code",
   "execution_count": 7,
   "metadata": {},
   "outputs": [
    {
     "data": {
      "text/html": [
       "<div><style>\n",
       ".dataframe > thead > tr,\n",
       ".dataframe > tbody > tr {\n",
       "  text-align: right;\n",
       "  white-space: pre-wrap;\n",
       "}\n",
       "</style>\n",
       "<small>shape: (5, 51)</small><table border=\"1\" class=\"dataframe\"><thead><tr><th>일자</th><th>대량매매구분코드</th><th>정규시간외구분코드</th><th>종목코드</th><th>종목인덱스</th><th>체결번호</th><th>체결가격</th><th>체결수량</th><th>체결유형코드</th><th>체결일자</th><th>체결시각</th><th>근월물체결가격</th><th>원월물체결가격</th><th>매수회원번호</th><th>매수호가유형코드</th><th>매수자사주신고서ID</th><th>매수자사주매매방법코드</th><th>매수매도유형코드</th><th>매수위탁자기구분코드</th><th>매수위탁사번호</th><th>매수PT구분코드</th><th>매수투자자구분코드</th><th>매수외국인투자자구분코드</th><th>매수호가접수번호</th><th>매도회원번호</th><th>매도호가유형코드</th><th>매도자사주신고서ID</th><th>매도자사주매매방법코드</th><th>매도매도유형코드</th><th>매도위탁자기구분코드</th><th>매도위탁사번호</th><th>매도PT구분코드</th><th>매도투자자구분코드</th><th>매도외국인투자자구분코드</th><th>매도호가접수번호</th><th>시가</th><th>고가</th><th>저가</th><th>직전가격</th><th>누적체결수량</th><th>누적거래대금</th><th>최종매도매수구분코드</th><th>LP보유수량</th><th>데이터구분</th><th>메세지일련번호</th><th>매수프로그램호가신고구분코드</th><th>매도프로그램호가신고구분코드</th><th>보드ID</th><th>세션ID</th><th>실시간상한가</th><th>실시간하한가</th></tr><tr><td>i64</td><td>str</td><td>str</td><td>str</td><td>i64</td><td>i64</td><td>i64</td><td>i64</td><td>str</td><td>i64</td><td>i64</td><td>i64</td><td>i64</td><td>i64</td><td>i64</td><td>i64</td><td>i64</td><td>str</td><td>i64</td><td>str</td><td>i64</td><td>i64</td><td>i64</td><td>i64</td><td>i64</td><td>i64</td><td>i64</td><td>i64</td><td>str</td><td>i64</td><td>str</td><td>i64</td><td>i64</td><td>i64</td><td>i64</td><td>i64</td><td>i64</td><td>i64</td><td>i64</td><td>i64</td><td>i64</td><td>str</td><td>i64</td><td>i64</td><td>i64</td><td>str</td><td>str</td><td>str</td><td>i64</td><td>i64</td><td>i64</td></tr></thead><tbody><tr><td>20231201</td><td>null</td><td>null</td><td>&quot;KR572501BA28&quot;</td><td>30</td><td>1</td><td>1090</td><td>19900</td><td>null</td><td>20231201</td><td>134630683</td><td>0</td><td>0</td><td>12</td><td>2</td><td>0</td><td>0</td><td>null</td><td>10</td><td>&quot; &quot;</td><td>0</td><td>8000</td><td>0</td><td>1</td><td>10</td><td>2</td><td>0</td><td>0</td><td>null</td><td>10</td><td>&quot; &quot;</td><td>0</td><td>8000</td><td>0</td><td>4</td><td>1090</td><td>1090</td><td>1090</td><td>0</td><td>19900</td><td>21691000</td><td>&quot;1&quot;</td><td>0</td><td>1</td><td>18159183</td><td>null</td><td>null</td><td>&quot;G1&quot;</td><td>40</td><td>0</td><td>0</td></tr><tr><td>20231201</td><td>null</td><td>null</td><td>&quot;KR572501BA28&quot;</td><td>30</td><td>2</td><td>1090</td><td>7100</td><td>null</td><td>20231201</td><td>134630683</td><td>0</td><td>0</td><td>12</td><td>2</td><td>0</td><td>0</td><td>null</td><td>10</td><td>&quot; &quot;</td><td>0</td><td>8000</td><td>0</td><td>2</td><td>10</td><td>2</td><td>0</td><td>0</td><td>null</td><td>10</td><td>&quot; &quot;</td><td>0</td><td>8000</td><td>0</td><td>4</td><td>1090</td><td>1090</td><td>1090</td><td>0</td><td>27000</td><td>29430000</td><td>&quot;1&quot;</td><td>0</td><td>1</td><td>18159184</td><td>null</td><td>null</td><td>&quot;G1&quot;</td><td>40</td><td>0</td><td>0</td></tr><tr><td>20231201</td><td>null</td><td>null</td><td>&quot;KR572501BA28&quot;</td><td>30</td><td>3</td><td>1090</td><td>23000</td><td>null</td><td>20231201</td><td>134630683</td><td>0</td><td>0</td><td>12</td><td>2</td><td>0</td><td>0</td><td>null</td><td>10</td><td>&quot; &quot;</td><td>0</td><td>8000</td><td>0</td><td>3</td><td>10</td><td>2</td><td>0</td><td>0</td><td>null</td><td>10</td><td>&quot; &quot;</td><td>0</td><td>8000</td><td>0</td><td>4</td><td>1090</td><td>1090</td><td>1090</td><td>0</td><td>50000</td><td>54500000</td><td>&quot;1&quot;</td><td>0</td><td>1</td><td>18159185</td><td>null</td><td>null</td><td>&quot;G1&quot;</td><td>40</td><td>0</td><td>0</td></tr><tr><td>20231201</td><td>null</td><td>null</td><td>&quot;KR5744017777&quot;</td><td>64</td><td>1</td><td>339</td><td>1</td><td>null</td><td>20231201</td><td>90327668</td><td>0</td><td>0</td><td>5</td><td>2</td><td>0</td><td>0</td><td>null</td><td>10</td><td>&quot; &quot;</td><td>0</td><td>1000</td><td>0</td><td>20</td><td>3</td><td>2</td><td>0</td><td>0</td><td>null</td><td>10</td><td>&quot; &quot;</td><td>0</td><td>8000</td><td>0</td><td>10</td><td>339</td><td>339</td><td>339</td><td>320</td><td>1</td><td>339</td><td>&quot;2&quot;</td><td>0</td><td>1</td><td>1696497</td><td>null</td><td>null</td><td>&quot;G1&quot;</td><td>40</td><td>0</td><td>0</td></tr><tr><td>20231201</td><td>null</td><td>null</td><td>&quot;KR5744017777&quot;</td><td>64</td><td>2</td><td>320</td><td>500</td><td>null</td><td>20231201</td><td>100405631</td><td>0</td><td>0</td><td>5</td><td>2</td><td>0</td><td>0</td><td>null</td><td>10</td><td>&quot; &quot;</td><td>0</td><td>8000</td><td>0</td><td>31</td><td>5</td><td>2</td><td>0</td><td>0</td><td>null</td><td>10</td><td>&quot; &quot;</td><td>0</td><td>8000</td><td>0</td><td>32</td><td>339</td><td>339</td><td>320</td><td>339</td><td>501</td><td>160339</td><td>&quot;1&quot;</td><td>0</td><td>1</td><td>8181079</td><td>null</td><td>null</td><td>&quot;G1&quot;</td><td>40</td><td>0</td><td>0</td></tr></tbody></table></div>"
      ],
      "text/plain": [
       "shape: (5, 51)\n",
       "┌──────────┬─────────────┬────────────┬────────────┬───┬────────┬────────┬────────────┬────────────┐\n",
       "│ 일자     ┆ 대량매매구  ┆ 정규시간외 ┆ 종목코드   ┆ … ┆ 보드ID ┆ 세션ID ┆ 실시간상한 ┆ 실시간하한 │\n",
       "│ ---      ┆ 분코드      ┆ 구분코드   ┆ ---        ┆   ┆ ---    ┆ ---    ┆ 가         ┆ 가         │\n",
       "│ i64      ┆ ---         ┆ ---        ┆ str        ┆   ┆ str    ┆ i64    ┆ ---        ┆ ---        │\n",
       "│          ┆ str         ┆ str        ┆            ┆   ┆        ┆        ┆ i64        ┆ i64        │\n",
       "╞══════════╪═════════════╪════════════╪════════════╪═══╪════════╪════════╪════════════╪════════════╡\n",
       "│ 20231201 ┆ null        ┆ null       ┆ KR572501BA ┆ … ┆ G1     ┆ 40     ┆ 0          ┆ 0          │\n",
       "│          ┆             ┆            ┆ 28         ┆   ┆        ┆        ┆            ┆            │\n",
       "│ 20231201 ┆ null        ┆ null       ┆ KR572501BA ┆ … ┆ G1     ┆ 40     ┆ 0          ┆ 0          │\n",
       "│          ┆             ┆            ┆ 28         ┆   ┆        ┆        ┆            ┆            │\n",
       "│ 20231201 ┆ null        ┆ null       ┆ KR572501BA ┆ … ┆ G1     ┆ 40     ┆ 0          ┆ 0          │\n",
       "│          ┆             ┆            ┆ 28         ┆   ┆        ┆        ┆            ┆            │\n",
       "│ 20231201 ┆ null        ┆ null       ┆ KR57440177 ┆ … ┆ G1     ┆ 40     ┆ 0          ┆ 0          │\n",
       "│          ┆             ┆            ┆ 77         ┆   ┆        ┆        ┆            ┆            │\n",
       "│ 20231201 ┆ null        ┆ null       ┆ KR57440177 ┆ … ┆ G1     ┆ 40     ┆ 0          ┆ 0          │\n",
       "│          ┆             ┆            ┆ 77         ┆   ┆        ┆        ┆            ┆            │\n",
       "└──────────┴─────────────┴────────────┴────────────┴───┴────────┴────────┴────────────┴────────────┘"
      ]
     },
     "execution_count": 7,
     "metadata": {},
     "output_type": "execute_result"
    }
   ],
   "source": [
    "scan.head(5).collect()"
   ]
  },
  {
   "cell_type": "markdown",
   "metadata": {},
   "source": []
  },
  {
   "cell_type": "code",
   "execution_count": 8,
   "metadata": {},
   "outputs": [
    {
     "name": "stdout",
     "output_type": "stream",
     "text": [
      "saved: SKSNXTR_head100.csv\n"
     ]
    }
   ],
   "source": [
    "df_head5 = scan.head(100).collect()\n",
    "\n",
    "# ── CSV로 저장 (헤더 없이) ───────────────────────────────\n",
    "df_head5.write_csv(\n",
    "    file=\"SKSNXTR_head100.csv\",  # 저장 파일명\n",
    "    include_header=True,      # 헤더 생략\n",
    "    quote_style=\"never\"        # 따옴표 안 씌우기 (필요하면 제거)\n",
    ")\n",
    "\n",
    "print(\"saved: SKSNXTR_head100.csv\")"
   ]
  }
 ],
 "metadata": {
  "kernelspec": {
   "display_name": "venv",
   "language": "python",
   "name": "python3"
  },
  "language_info": {
   "codemirror_mode": {
    "name": "ipython",
    "version": 3
   },
   "file_extension": ".py",
   "mimetype": "text/x-python",
   "name": "python",
   "nbconvert_exporter": "python",
   "pygments_lexer": "ipython3",
   "version": "3.12.7"
  }
 },
 "nbformat": 4,
 "nbformat_minor": 2
}
