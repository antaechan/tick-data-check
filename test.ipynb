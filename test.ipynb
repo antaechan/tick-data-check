{
 "cells": [
  {
   "cell_type": "code",
   "execution_count": 3,
   "metadata": {},
   "outputs": [],
   "source": [
    "import pandas as pd\n",
    "\n",
    "df = pd.read_csv(\"SKSNXTR_filtered.csv\", index_col=False)"
   ]
  },
  {
   "cell_type": "code",
   "execution_count": null,
   "metadata": {},
   "outputs": [
    {
     "data": {
      "text/html": [
       "<div>\n",
       "<style scoped>\n",
       "    .dataframe tbody tr th:only-of-type {\n",
       "        vertical-align: middle;\n",
       "    }\n",
       "\n",
       "    .dataframe tbody tr th {\n",
       "        vertical-align: top;\n",
       "    }\n",
       "\n",
       "    .dataframe thead th {\n",
       "        text-align: right;\n",
       "    }\n",
       "</style>\n",
       "<table border=\"1\" class=\"dataframe\">\n",
       "  <thead>\n",
       "    <tr style=\"text-align: right;\">\n",
       "      <th></th>\n",
       "      <th>종목코드</th>\n",
       "      <th>종목인덱스</th>\n",
       "      <th>체결가격</th>\n",
       "      <th>체결일자</th>\n",
       "      <th>체결시각</th>\n",
       "      <th>시가</th>\n",
       "    </tr>\n",
       "  </thead>\n",
       "  <tbody>\n",
       "  </tbody>\n",
       "</table>\n",
       "</div>"
      ],
      "text/plain": [
       "Empty DataFrame\n",
       "Columns: [종목코드, 종목인덱스, 체결가격, 체결일자, 체결시각, 시가]\n",
       "Index: []"
      ]
     },
     "execution_count": 5,
     "metadata": {},
     "output_type": "execute_result"
    }
   ],
   "source": [
    "df[df['종목코드'] == 'KR7069500007']"
   ]
  },
  {
   "cell_type": "code",
   "execution_count": 16,
   "metadata": {},
   "outputs": [],
   "source": [
    "import polars as pl\n",
    "\n",
    "# 스트리밍 스캔 → 앞 20 행만 가져오기\n",
    "sample = (\n",
    "    pl.scan_csv(\"SKSNXTR_filtered.csv\")   # 헤더가 이미 있으므로 옵션 생략\n",
    ")"
   ]
  },
  {
   "cell_type": "code",
   "execution_count": null,
   "metadata": {},
   "outputs": [
    {
     "data": {
      "text/html": [
       "<i>naive plan: (run <b>LazyFrame.explain(optimized=True)</b> to see the optimized plan)</i>\n",
       "    <p></p>\n",
       "    <div>Csv SCAN [SKSNXTR_filtered.csv]<p></p>PROJECT */6 COLUMNS</div>"
      ],
      "text/plain": [
       "<LazyFrame at 0x28C986C60>"
      ]
     },
     "execution_count": 17,
     "metadata": {},
     "output_type": "execute_result"
    }
   ],
   "source": [
    "sample.filter(pl.col(\"종목코드\") == \"KR7069500007\").collect()\n"
   ]
  },
  {
   "cell_type": "code",
   "execution_count": null,
   "metadata": {},
   "outputs": [],
   "source": [
    "sample.filter(pl.col(\"종목코드\") == \"KR7229200001\").collect()"
   ]
  },
  {
   "cell_type": "code",
   "execution_count": 1,
   "metadata": {},
   "outputs": [
    {
     "ename": "ModuleNotFoundError",
     "evalue": "No module named 'FinanceDataReader'",
     "output_type": "error",
     "traceback": [
      "\u001b[0;31m---------------------------------------------------------------------------\u001b[0m",
      "\u001b[0;31mModuleNotFoundError\u001b[0m                       Traceback (most recent call last)",
      "Cell \u001b[0;32mIn[1], line 1\u001b[0m\n\u001b[0;32m----> 1\u001b[0m \u001b[38;5;28;01mimport\u001b[39;00m\u001b[38;5;250m \u001b[39m\u001b[38;5;21;01mFinanceDataReader\u001b[39;00m\u001b[38;5;250m \u001b[39m\u001b[38;5;28;01mas\u001b[39;00m\u001b[38;5;250m \u001b[39m\u001b[38;5;21;01mfdr\u001b[39;00m\n\u001b[1;32m      3\u001b[0m listing \u001b[38;5;241m=\u001b[39m (\n\u001b[1;32m      4\u001b[0m     pl\u001b[38;5;241m.\u001b[39mfrom_pandas(\n\u001b[1;32m      5\u001b[0m         fdr\u001b[38;5;241m.\u001b[39mStockListing(\u001b[38;5;124m\"\u001b[39m\u001b[38;5;124mKRX\u001b[39m\u001b[38;5;124m\"\u001b[39m)[[\u001b[38;5;124m\"\u001b[39m\u001b[38;5;124mISU_CD\u001b[39m\u001b[38;5;124m\"\u001b[39m, \u001b[38;5;124m\"\u001b[39m\u001b[38;5;124mName\u001b[39m\u001b[38;5;124m\"\u001b[39m]]\n\u001b[0;32m   (...)\u001b[0m\n\u001b[1;32m     10\u001b[0m     \u001b[38;5;241m.\u001b[39mlazy()\n\u001b[1;32m     11\u001b[0m ) \n",
      "\u001b[0;31mModuleNotFoundError\u001b[0m: No module named 'FinanceDataReader'"
     ]
    }
   ],
   "source": [
    "import FinanceDataReader as fdr\n",
    "\n",
    "listing = (\n",
    "    pl.from_pandas(\n",
    "        fdr.StockListing(\"KRX\")[[\"ISU_CD\", \"Name\"]]\n",
    "    )\n",
    "    .rename({\"ISU_CD\": \"종목코드\", \"Name\": \"종목명\"})\n",
    "    .with_columns(pl.col(\"종목코드\").cast(pl.Utf8))\n",
    "    .unique(subset=\"종목코드\")\n",
    "    .lazy()\n",
    ") "
   ]
  },
  {
   "cell_type": "code",
   "execution_count": 19,
   "metadata": {},
   "outputs": [
    {
     "data": {
      "text/html": [
       "<i>naive plan: (run <b>LazyFrame.explain(optimized=True)</b> to see the optimized plan)</i>\n",
       "    <p></p>\n",
       "    <div>DF [\"종목코드\", \"종목명\"]; PROJECT */2 COLUMNS</div>"
      ],
      "text/plain": [
       "<LazyFrame at 0x104952A20>"
      ]
     },
     "execution_count": 19,
     "metadata": {},
     "output_type": "execute_result"
    }
   ],
   "source": [
    "listing"
   ]
  },
  {
   "cell_type": "code",
   "execution_count": 30,
   "metadata": {},
   "outputs": [
    {
     "name": "stderr",
     "output_type": "stream",
     "text": [
      "/var/folders/bs/f41tt40n4051glsbp8qq036c0000gp/T/ipykernel_97144/2321647073.py:4: DeprecationWarning: The argument `streaming` is deprecated and is being replaced by the `engine` argument.\n",
      "  .collect(streaming=True)\n",
      "/var/folders/bs/f41tt40n4051glsbp8qq036c0000gp/T/ipykernel_97144/2321647073.py:4: DeprecationWarning: The old streaming engine is being deprecated and will soon be replaced by the new streaming engine. Starting Polars version 1.23.0 and until the new streaming engine is released, the old streaming engine may become less usable. For people who rely on the old streaming engine, it is suggested to pin your version to before 1.23.0.\n",
      "\n",
      "More information on the new streaming engine: https://github.com/pola-rs/polars/issues/20947\n",
      "  .collect(streaming=True)\n"
     ]
    }
   ],
   "source": [
    "result = (\n",
    "    sample.join(listing, on=\"종목코드\", how=\"left\")\n",
    "    .drop_nulls(\"종목명\") \n",
    "        .collect(streaming=True)\n",
    ")"
   ]
  },
  {
   "cell_type": "code",
   "execution_count": 31,
   "metadata": {},
   "outputs": [
    {
     "data": {
      "text/html": [
       "<div><style>\n",
       ".dataframe > thead > tr,\n",
       ".dataframe > tbody > tr {\n",
       "  text-align: right;\n",
       "  white-space: pre-wrap;\n",
       "}\n",
       "</style>\n",
       "<small>shape: (139_721_330, 7)</small><table border=\"1\" class=\"dataframe\"><thead><tr><th>종목코드</th><th>종목인덱스</th><th>체결가격</th><th>체결일자</th><th>체결시각</th><th>시가</th><th>종목명</th></tr><tr><td>str</td><td>i64</td><td>i64</td><td>i64</td><td>i64</td><td>i64</td><td>str</td></tr></thead><tbody><tr><td>&quot;KR7000020008&quot;</td><td>88</td><td>9540</td><td>20231201</td><td>90012057</td><td>9540</td><td>&quot;동화약품&quot;</td></tr><tr><td>&quot;KR7000020008&quot;</td><td>88</td><td>9540</td><td>20231201</td><td>90012057</td><td>9540</td><td>&quot;동화약품&quot;</td></tr><tr><td>&quot;KR7000020008&quot;</td><td>88</td><td>9540</td><td>20231201</td><td>90012057</td><td>9540</td><td>&quot;동화약품&quot;</td></tr><tr><td>&quot;KR7000020008&quot;</td><td>88</td><td>9540</td><td>20231201</td><td>90012057</td><td>9540</td><td>&quot;동화약품&quot;</td></tr><tr><td>&quot;KR7000020008&quot;</td><td>88</td><td>9540</td><td>20231201</td><td>90012057</td><td>9540</td><td>&quot;동화약품&quot;</td></tr><tr><td>&hellip;</td><td>&hellip;</td><td>&hellip;</td><td>&hellip;</td><td>&hellip;</td><td>&hellip;</td><td>&hellip;</td></tr><tr><td>&quot;KYG5307W1015&quot;</td><td>6177</td><td>2525</td><td>20231228</td><td>180030021</td><td>0</td><td>&quot;엘브이엠씨홀딩스&quot;</td></tr><tr><td>&quot;KYG5307W1015&quot;</td><td>6177</td><td>2525</td><td>20231228</td><td>180030021</td><td>0</td><td>&quot;엘브이엠씨홀딩스&quot;</td></tr><tr><td>&quot;KYG5307W1015&quot;</td><td>6177</td><td>2525</td><td>20231228</td><td>180030021</td><td>0</td><td>&quot;엘브이엠씨홀딩스&quot;</td></tr><tr><td>&quot;KYG5307W1015&quot;</td><td>6177</td><td>2525</td><td>20231228</td><td>180030021</td><td>0</td><td>&quot;엘브이엠씨홀딩스&quot;</td></tr><tr><td>&quot;KYG5307W1015&quot;</td><td>6177</td><td>2525</td><td>20231228</td><td>180030021</td><td>0</td><td>&quot;엘브이엠씨홀딩스&quot;</td></tr></tbody></table></div>"
      ],
      "text/plain": [
       "shape: (139_721_330, 7)\n",
       "┌──────────────┬────────────┬──────────┬──────────┬───────────┬──────┬──────────────────┐\n",
       "│ 종목코드     ┆ 종목인덱스 ┆ 체결가격 ┆ 체결일자 ┆ 체결시각  ┆ 시가 ┆ 종목명           │\n",
       "│ ---          ┆ ---        ┆ ---      ┆ ---      ┆ ---       ┆ ---  ┆ ---              │\n",
       "│ str          ┆ i64        ┆ i64      ┆ i64      ┆ i64       ┆ i64  ┆ str              │\n",
       "╞══════════════╪════════════╪══════════╪══════════╪═══════════╪══════╪══════════════════╡\n",
       "│ KR7000020008 ┆ 88         ┆ 9540     ┆ 20231201 ┆ 90012057  ┆ 9540 ┆ 동화약품         │\n",
       "│ KR7000020008 ┆ 88         ┆ 9540     ┆ 20231201 ┆ 90012057  ┆ 9540 ┆ 동화약품         │\n",
       "│ KR7000020008 ┆ 88         ┆ 9540     ┆ 20231201 ┆ 90012057  ┆ 9540 ┆ 동화약품         │\n",
       "│ KR7000020008 ┆ 88         ┆ 9540     ┆ 20231201 ┆ 90012057  ┆ 9540 ┆ 동화약품         │\n",
       "│ KR7000020008 ┆ 88         ┆ 9540     ┆ 20231201 ┆ 90012057  ┆ 9540 ┆ 동화약품         │\n",
       "│ …            ┆ …          ┆ …        ┆ …        ┆ …         ┆ …    ┆ …                │\n",
       "│ KYG5307W1015 ┆ 6177       ┆ 2525     ┆ 20231228 ┆ 180030021 ┆ 0    ┆ 엘브이엠씨홀딩스 │\n",
       "│ KYG5307W1015 ┆ 6177       ┆ 2525     ┆ 20231228 ┆ 180030021 ┆ 0    ┆ 엘브이엠씨홀딩스 │\n",
       "│ KYG5307W1015 ┆ 6177       ┆ 2525     ┆ 20231228 ┆ 180030021 ┆ 0    ┆ 엘브이엠씨홀딩스 │\n",
       "│ KYG5307W1015 ┆ 6177       ┆ 2525     ┆ 20231228 ┆ 180030021 ┆ 0    ┆ 엘브이엠씨홀딩스 │\n",
       "│ KYG5307W1015 ┆ 6177       ┆ 2525     ┆ 20231228 ┆ 180030021 ┆ 0    ┆ 엘브이엠씨홀딩스 │\n",
       "└──────────────┴────────────┴──────────┴──────────┴───────────┴──────┴──────────────────┘"
      ]
     },
     "execution_count": 31,
     "metadata": {},
     "output_type": "execute_result"
    }
   ],
   "source": [
    "result"
   ]
  }
 ],
 "metadata": {
  "kernelspec": {
   "display_name": "venv",
   "language": "python",
   "name": "python3"
  },
  "language_info": {
   "codemirror_mode": {
    "name": "ipython",
    "version": 3
   },
   "file_extension": ".py",
   "mimetype": "text/x-python",
   "name": "python",
   "nbconvert_exporter": "python",
   "pygments_lexer": "ipython3",
   "version": "3.9.6"
  }
 },
 "nbformat": 4,
 "nbformat_minor": 2
}
