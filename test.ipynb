{
 "cells": [
  {
   "cell_type": "code",
   "execution_count": 1,
   "metadata": {},
   "outputs": [],
   "source": [
    "import pandas as pd\n",
    "\n",
    "df = pd.read_csv(\"SKSNXTR_head5.csv\", index_col=False)"
   ]
  },
  {
   "cell_type": "code",
   "execution_count": 2,
   "metadata": {},
   "outputs": [
    {
     "data": {
      "text/html": [
       "<div>\n",
       "<style scoped>\n",
       "    .dataframe tbody tr th:only-of-type {\n",
       "        vertical-align: middle;\n",
       "    }\n",
       "\n",
       "    .dataframe tbody tr th {\n",
       "        vertical-align: top;\n",
       "    }\n",
       "\n",
       "    .dataframe thead th {\n",
       "        text-align: right;\n",
       "    }\n",
       "</style>\n",
       "<table border=\"1\" class=\"dataframe\">\n",
       "  <thead>\n",
       "    <tr style=\"text-align: right;\">\n",
       "      <th></th>\n",
       "      <th>일자</th>\n",
       "      <th>대량매매구분코드</th>\n",
       "      <th>정규시간외구분코드</th>\n",
       "      <th>종목코드</th>\n",
       "      <th>종목인덱스</th>\n",
       "      <th>체결번호</th>\n",
       "      <th>체결가격</th>\n",
       "      <th>체결수량</th>\n",
       "      <th>체결유형코드</th>\n",
       "      <th>체결일자</th>\n",
       "      <th>...</th>\n",
       "      <th>최종매도매수구분코드</th>\n",
       "      <th>LP보유수량</th>\n",
       "      <th>데이터구분</th>\n",
       "      <th>메세지일련번호</th>\n",
       "      <th>매수프로그램호가신고구분코드</th>\n",
       "      <th>매도프로그램호가신고구분코드</th>\n",
       "      <th>보드ID</th>\n",
       "      <th>세션ID</th>\n",
       "      <th>실시간상한가</th>\n",
       "      <th>실시간하한가</th>\n",
       "    </tr>\n",
       "  </thead>\n",
       "  <tbody>\n",
       "    <tr>\n",
       "      <th>0</th>\n",
       "      <td>20231201</td>\n",
       "      <td>NaN</td>\n",
       "      <td>NaN</td>\n",
       "      <td>KR572501BA28</td>\n",
       "      <td>30</td>\n",
       "      <td>1</td>\n",
       "      <td>1090</td>\n",
       "      <td>19900</td>\n",
       "      <td>NaN</td>\n",
       "      <td>20231201</td>\n",
       "      <td>...</td>\n",
       "      <td>1</td>\n",
       "      <td>0</td>\n",
       "      <td>1</td>\n",
       "      <td>18159183</td>\n",
       "      <td>NaN</td>\n",
       "      <td>NaN</td>\n",
       "      <td>G1</td>\n",
       "      <td>40</td>\n",
       "      <td>0</td>\n",
       "      <td>0</td>\n",
       "    </tr>\n",
       "    <tr>\n",
       "      <th>1</th>\n",
       "      <td>20231201</td>\n",
       "      <td>NaN</td>\n",
       "      <td>NaN</td>\n",
       "      <td>KR572501BA28</td>\n",
       "      <td>30</td>\n",
       "      <td>2</td>\n",
       "      <td>1090</td>\n",
       "      <td>7100</td>\n",
       "      <td>NaN</td>\n",
       "      <td>20231201</td>\n",
       "      <td>...</td>\n",
       "      <td>1</td>\n",
       "      <td>0</td>\n",
       "      <td>1</td>\n",
       "      <td>18159184</td>\n",
       "      <td>NaN</td>\n",
       "      <td>NaN</td>\n",
       "      <td>G1</td>\n",
       "      <td>40</td>\n",
       "      <td>0</td>\n",
       "      <td>0</td>\n",
       "    </tr>\n",
       "    <tr>\n",
       "      <th>2</th>\n",
       "      <td>20231201</td>\n",
       "      <td>NaN</td>\n",
       "      <td>NaN</td>\n",
       "      <td>KR572501BA28</td>\n",
       "      <td>30</td>\n",
       "      <td>3</td>\n",
       "      <td>1090</td>\n",
       "      <td>23000</td>\n",
       "      <td>NaN</td>\n",
       "      <td>20231201</td>\n",
       "      <td>...</td>\n",
       "      <td>1</td>\n",
       "      <td>0</td>\n",
       "      <td>1</td>\n",
       "      <td>18159185</td>\n",
       "      <td>NaN</td>\n",
       "      <td>NaN</td>\n",
       "      <td>G1</td>\n",
       "      <td>40</td>\n",
       "      <td>0</td>\n",
       "      <td>0</td>\n",
       "    </tr>\n",
       "    <tr>\n",
       "      <th>3</th>\n",
       "      <td>20231201</td>\n",
       "      <td>NaN</td>\n",
       "      <td>NaN</td>\n",
       "      <td>KR5744017777</td>\n",
       "      <td>64</td>\n",
       "      <td>1</td>\n",
       "      <td>339</td>\n",
       "      <td>1</td>\n",
       "      <td>NaN</td>\n",
       "      <td>20231201</td>\n",
       "      <td>...</td>\n",
       "      <td>2</td>\n",
       "      <td>0</td>\n",
       "      <td>1</td>\n",
       "      <td>1696497</td>\n",
       "      <td>NaN</td>\n",
       "      <td>NaN</td>\n",
       "      <td>G1</td>\n",
       "      <td>40</td>\n",
       "      <td>0</td>\n",
       "      <td>0</td>\n",
       "    </tr>\n",
       "    <tr>\n",
       "      <th>4</th>\n",
       "      <td>20231201</td>\n",
       "      <td>NaN</td>\n",
       "      <td>NaN</td>\n",
       "      <td>KR5744017777</td>\n",
       "      <td>64</td>\n",
       "      <td>2</td>\n",
       "      <td>320</td>\n",
       "      <td>500</td>\n",
       "      <td>NaN</td>\n",
       "      <td>20231201</td>\n",
       "      <td>...</td>\n",
       "      <td>1</td>\n",
       "      <td>0</td>\n",
       "      <td>1</td>\n",
       "      <td>8181079</td>\n",
       "      <td>NaN</td>\n",
       "      <td>NaN</td>\n",
       "      <td>G1</td>\n",
       "      <td>40</td>\n",
       "      <td>0</td>\n",
       "      <td>0</td>\n",
       "    </tr>\n",
       "  </tbody>\n",
       "</table>\n",
       "<p>5 rows × 51 columns</p>\n",
       "</div>"
      ],
      "text/plain": [
       "         일자  대량매매구분코드  정규시간외구분코드          종목코드  종목인덱스  체결번호  체결가격   체결수량  \\\n",
       "0  20231201       NaN        NaN  KR572501BA28     30     1  1090  19900   \n",
       "1  20231201       NaN        NaN  KR572501BA28     30     2  1090   7100   \n",
       "2  20231201       NaN        NaN  KR572501BA28     30     3  1090  23000   \n",
       "3  20231201       NaN        NaN  KR5744017777     64     1   339      1   \n",
       "4  20231201       NaN        NaN  KR5744017777     64     2   320    500   \n",
       "\n",
       "   체결유형코드      체결일자  ...  최종매도매수구분코드  LP보유수량  데이터구분   메세지일련번호  매수프로그램호가신고구분코드  \\\n",
       "0     NaN  20231201  ...           1       0      1  18159183             NaN   \n",
       "1     NaN  20231201  ...           1       0      1  18159184             NaN   \n",
       "2     NaN  20231201  ...           1       0      1  18159185             NaN   \n",
       "3     NaN  20231201  ...           2       0      1   1696497             NaN   \n",
       "4     NaN  20231201  ...           1       0      1   8181079             NaN   \n",
       "\n",
       "   매도프로그램호가신고구분코드  보드ID  세션ID  실시간상한가 실시간하한가  \n",
       "0             NaN    G1    40       0      0  \n",
       "1             NaN    G1    40       0      0  \n",
       "2             NaN    G1    40       0      0  \n",
       "3             NaN    G1    40       0      0  \n",
       "4             NaN    G1    40       0      0  \n",
       "\n",
       "[5 rows x 51 columns]"
      ]
     },
     "execution_count": 2,
     "metadata": {},
     "output_type": "execute_result"
    }
   ],
   "source": [
    "df"
   ]
  },
  {
   "cell_type": "code",
   "execution_count": 16,
   "metadata": {},
   "outputs": [],
   "source": [
    "import polars as pl\n",
    "\n",
    "# 스트리밍 스캔 → 앞 20 행만 가져오기\n",
    "sample = (\n",
    "    pl.scan_csv(\"SKSNXTR_filtered.csv\")   # 헤더가 이미 있으므로 옵션 생략\n",
    ")"
   ]
  },
  {
   "cell_type": "code",
   "execution_count": 17,
   "metadata": {},
   "outputs": [
    {
     "data": {
      "text/html": [
       "<i>naive plan: (run <b>LazyFrame.explain(optimized=True)</b> to see the optimized plan)</i>\n",
       "    <p></p>\n",
       "    <div>Csv SCAN [SKSNXTR_filtered.csv]<p></p>PROJECT */6 COLUMNS</div>"
      ],
      "text/plain": [
       "<LazyFrame at 0x28C986C60>"
      ]
     },
     "execution_count": 17,
     "metadata": {},
     "output_type": "execute_result"
    }
   ],
   "source": [
    "sample"
   ]
  },
  {
   "cell_type": "code",
   "execution_count": 18,
   "metadata": {},
   "outputs": [],
   "source": [
    "import FinanceDataReader as fdr\n",
    "\n",
    "listing = (\n",
    "    pl.from_pandas(\n",
    "        fdr.StockListing(\"KRX\")[[\"ISU_CD\", \"Name\"]]\n",
    "    )\n",
    "    .rename({\"ISU_CD\": \"종목코드\", \"Name\": \"종목명\"})\n",
    "    .with_columns(pl.col(\"종목코드\").cast(pl.Utf8))\n",
    "    .unique(subset=\"종목코드\")\n",
    "    .lazy()\n",
    ") "
   ]
  },
  {
   "cell_type": "code",
   "execution_count": 19,
   "metadata": {},
   "outputs": [
    {
     "data": {
      "text/html": [
       "<i>naive plan: (run <b>LazyFrame.explain(optimized=True)</b> to see the optimized plan)</i>\n",
       "    <p></p>\n",
       "    <div>DF [\"종목코드\", \"종목명\"]; PROJECT */2 COLUMNS</div>"
      ],
      "text/plain": [
       "<LazyFrame at 0x104952A20>"
      ]
     },
     "execution_count": 19,
     "metadata": {},
     "output_type": "execute_result"
    }
   ],
   "source": [
    "listing"
   ]
  },
  {
   "cell_type": "code",
   "execution_count": 30,
   "metadata": {},
   "outputs": [
    {
     "name": "stderr",
     "output_type": "stream",
     "text": [
      "/var/folders/bs/f41tt40n4051glsbp8qq036c0000gp/T/ipykernel_97144/2321647073.py:4: DeprecationWarning: The argument `streaming` is deprecated and is being replaced by the `engine` argument.\n",
      "  .collect(streaming=True)\n",
      "/var/folders/bs/f41tt40n4051glsbp8qq036c0000gp/T/ipykernel_97144/2321647073.py:4: DeprecationWarning: The old streaming engine is being deprecated and will soon be replaced by the new streaming engine. Starting Polars version 1.23.0 and until the new streaming engine is released, the old streaming engine may become less usable. For people who rely on the old streaming engine, it is suggested to pin your version to before 1.23.0.\n",
      "\n",
      "More information on the new streaming engine: https://github.com/pola-rs/polars/issues/20947\n",
      "  .collect(streaming=True)\n"
     ]
    }
   ],
   "source": [
    "result = (\n",
    "    sample.join(listing, on=\"종목코드\", how=\"left\")\n",
    "    .drop_nulls(\"종목명\") \n",
    "        .collect(streaming=True)\n",
    ")"
   ]
  },
  {
   "cell_type": "code",
   "execution_count": 31,
   "metadata": {},
   "outputs": [
    {
     "data": {
      "text/html": [
       "<div><style>\n",
       ".dataframe > thead > tr,\n",
       ".dataframe > tbody > tr {\n",
       "  text-align: right;\n",
       "  white-space: pre-wrap;\n",
       "}\n",
       "</style>\n",
       "<small>shape: (139_721_330, 7)</small><table border=\"1\" class=\"dataframe\"><thead><tr><th>종목코드</th><th>종목인덱스</th><th>체결가격</th><th>체결일자</th><th>체결시각</th><th>시가</th><th>종목명</th></tr><tr><td>str</td><td>i64</td><td>i64</td><td>i64</td><td>i64</td><td>i64</td><td>str</td></tr></thead><tbody><tr><td>&quot;KR7000020008&quot;</td><td>88</td><td>9540</td><td>20231201</td><td>90012057</td><td>9540</td><td>&quot;동화약품&quot;</td></tr><tr><td>&quot;KR7000020008&quot;</td><td>88</td><td>9540</td><td>20231201</td><td>90012057</td><td>9540</td><td>&quot;동화약품&quot;</td></tr><tr><td>&quot;KR7000020008&quot;</td><td>88</td><td>9540</td><td>20231201</td><td>90012057</td><td>9540</td><td>&quot;동화약품&quot;</td></tr><tr><td>&quot;KR7000020008&quot;</td><td>88</td><td>9540</td><td>20231201</td><td>90012057</td><td>9540</td><td>&quot;동화약품&quot;</td></tr><tr><td>&quot;KR7000020008&quot;</td><td>88</td><td>9540</td><td>20231201</td><td>90012057</td><td>9540</td><td>&quot;동화약품&quot;</td></tr><tr><td>&hellip;</td><td>&hellip;</td><td>&hellip;</td><td>&hellip;</td><td>&hellip;</td><td>&hellip;</td><td>&hellip;</td></tr><tr><td>&quot;KYG5307W1015&quot;</td><td>6177</td><td>2525</td><td>20231228</td><td>180030021</td><td>0</td><td>&quot;엘브이엠씨홀딩스&quot;</td></tr><tr><td>&quot;KYG5307W1015&quot;</td><td>6177</td><td>2525</td><td>20231228</td><td>180030021</td><td>0</td><td>&quot;엘브이엠씨홀딩스&quot;</td></tr><tr><td>&quot;KYG5307W1015&quot;</td><td>6177</td><td>2525</td><td>20231228</td><td>180030021</td><td>0</td><td>&quot;엘브이엠씨홀딩스&quot;</td></tr><tr><td>&quot;KYG5307W1015&quot;</td><td>6177</td><td>2525</td><td>20231228</td><td>180030021</td><td>0</td><td>&quot;엘브이엠씨홀딩스&quot;</td></tr><tr><td>&quot;KYG5307W1015&quot;</td><td>6177</td><td>2525</td><td>20231228</td><td>180030021</td><td>0</td><td>&quot;엘브이엠씨홀딩스&quot;</td></tr></tbody></table></div>"
      ],
      "text/plain": [
       "shape: (139_721_330, 7)\n",
       "┌──────────────┬────────────┬──────────┬──────────┬───────────┬──────┬──────────────────┐\n",
       "│ 종목코드     ┆ 종목인덱스 ┆ 체결가격 ┆ 체결일자 ┆ 체결시각  ┆ 시가 ┆ 종목명           │\n",
       "│ ---          ┆ ---        ┆ ---      ┆ ---      ┆ ---       ┆ ---  ┆ ---              │\n",
       "│ str          ┆ i64        ┆ i64      ┆ i64      ┆ i64       ┆ i64  ┆ str              │\n",
       "╞══════════════╪════════════╪══════════╪══════════╪═══════════╪══════╪══════════════════╡\n",
       "│ KR7000020008 ┆ 88         ┆ 9540     ┆ 20231201 ┆ 90012057  ┆ 9540 ┆ 동화약품         │\n",
       "│ KR7000020008 ┆ 88         ┆ 9540     ┆ 20231201 ┆ 90012057  ┆ 9540 ┆ 동화약품         │\n",
       "│ KR7000020008 ┆ 88         ┆ 9540     ┆ 20231201 ┆ 90012057  ┆ 9540 ┆ 동화약품         │\n",
       "│ KR7000020008 ┆ 88         ┆ 9540     ┆ 20231201 ┆ 90012057  ┆ 9540 ┆ 동화약품         │\n",
       "│ KR7000020008 ┆ 88         ┆ 9540     ┆ 20231201 ┆ 90012057  ┆ 9540 ┆ 동화약품         │\n",
       "│ …            ┆ …          ┆ …        ┆ …        ┆ …         ┆ …    ┆ …                │\n",
       "│ KYG5307W1015 ┆ 6177       ┆ 2525     ┆ 20231228 ┆ 180030021 ┆ 0    ┆ 엘브이엠씨홀딩스 │\n",
       "│ KYG5307W1015 ┆ 6177       ┆ 2525     ┆ 20231228 ┆ 180030021 ┆ 0    ┆ 엘브이엠씨홀딩스 │\n",
       "│ KYG5307W1015 ┆ 6177       ┆ 2525     ┆ 20231228 ┆ 180030021 ┆ 0    ┆ 엘브이엠씨홀딩스 │\n",
       "│ KYG5307W1015 ┆ 6177       ┆ 2525     ┆ 20231228 ┆ 180030021 ┆ 0    ┆ 엘브이엠씨홀딩스 │\n",
       "│ KYG5307W1015 ┆ 6177       ┆ 2525     ┆ 20231228 ┆ 180030021 ┆ 0    ┆ 엘브이엠씨홀딩스 │\n",
       "└──────────────┴────────────┴──────────┴──────────┴───────────┴──────┴──────────────────┘"
      ]
     },
     "execution_count": 31,
     "metadata": {},
     "output_type": "execute_result"
    }
   ],
   "source": [
    "result"
   ]
  }
 ],
 "metadata": {
  "kernelspec": {
   "display_name": "venv",
   "language": "python",
   "name": "python3"
  },
  "language_info": {
   "codemirror_mode": {
    "name": "ipython",
    "version": 3
   },
   "file_extension": ".py",
   "mimetype": "text/x-python",
   "name": "python",
   "nbconvert_exporter": "python",
   "pygments_lexer": "ipython3",
   "version": "3.12.7"
  }
 },
 "nbformat": 4,
 "nbformat_minor": 2
}
